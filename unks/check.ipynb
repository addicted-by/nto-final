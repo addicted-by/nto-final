{
 "cells": [
  {
   "cell_type": "code",
   "execution_count": 8,
   "metadata": {},
   "outputs": [
    {
     "data": {
      "text/plain": [
       "40"
      ]
     },
     "execution_count": 8,
     "metadata": {},
     "output_type": "execute_result"
    }
   ],
   "source": [
    "40 & 0x0fff"
   ]
  },
  {
   "cell_type": "code",
   "execution_count": 11,
   "metadata": {},
   "outputs": [
    {
     "data": {
      "text/plain": [
       "'0b111111111111'"
      ]
     },
     "execution_count": 11,
     "metadata": {},
     "output_type": "execute_result"
    }
   ],
   "source": [
    "bin(0x0fff)"
   ]
  },
  {
   "cell_type": "code",
   "execution_count": 16,
   "metadata": {},
   "outputs": [
    {
     "name": "stdout",
     "output_type": "stream",
     "text": [
      "0b1000000000001 & 0b111111111111 = 0b1\n"
     ]
    }
   ],
   "source": [
    "print(bin(4097), '&', bin(0x0fff), '=', bin(4097&0x0fff))"
   ]
  },
  {
   "cell_type": "code",
   "execution_count": 85,
   "metadata": {},
   "outputs": [
    {
     "name": "stdout",
     "output_type": "stream",
     "text": [
      "0b10011111101110110011000010010000110111011000100000101\n"
     ]
    },
    {
     "data": {
      "text/plain": [
       "'0b1011'"
      ]
     },
     "execution_count": 85,
     "metadata": {},
     "output_type": "execute_result"
    }
   ],
   "source": [
    "number = 5620042320032005\n",
    "print(bin(number))\n",
    "number &= 0xf000\n",
    "bin(number >> 12)"
   ]
  },
  {
   "cell_type": "code",
   "execution_count": 80,
   "metadata": {},
   "outputs": [
    {
     "data": {
      "text/plain": [
       "55"
      ]
     },
     "execution_count": 80,
     "metadata": {},
     "output_type": "execute_result"
    }
   ],
   "source": [
    "len(bin(5620042320032005))"
   ]
  },
  {
   "cell_type": "code",
   "execution_count": 82,
   "metadata": {},
   "outputs": [
    {
     "data": {
      "text/plain": [
       "'0x1ffff00000'"
      ]
     },
     "execution_count": 82,
     "metadata": {},
     "output_type": "execute_result"
    }
   ],
   "source": [
    "hex(0b1111111111111111100000000000000000000)"
   ]
  },
  {
   "cell_type": "code",
   "execution_count": 67,
   "metadata": {},
   "outputs": [
    {
     "data": {
      "text/plain": [
       "'0xf000'"
      ]
     },
     "execution_count": 67,
     "metadata": {},
     "output_type": "execute_result"
    }
   ],
   "source": [
    "hex(0b1111000000000000)"
   ]
  },
  {
   "cell_type": "code",
   "execution_count": 2,
   "metadata": {},
   "outputs": [
    {
     "name": "stdout",
     "output_type": "stream",
     "text": [
      "Длина блока кодирования: 8\n",
      "Контрольные биты: [1, 2, 4, 8]\n",
      "Закодированные данные: 010011011000100111000101000011001100000011001100110111001111010101000000100011110111110111001111110111110010000011001100100011010100010101000000010111001001010101000000100011010100110111001111110011011110010111110100010101000000100111011011110011011110110111001111100011110111010101000000010011011000110111001111100011110111010101000000010111110100110111001111010101000000000111000011110111110010100011101001\n",
      "Результат декодирования: hello world i dont know how to cry\n",
      "Допускаем ошибки в закодированных данных: 010011111000100111000100100011001100010011001100010111001111000101000000000011110111110111001110110011110010001011001100100010010100010101001000010111001011010101010000100011110100100111001111010011011110010111010100010101010000100111001011110011011100110111001110100011110101010100000000110011011000110111001011101011110111010001000000010101110100110011001111010101001000001111000011111111110010100011100001\n",
      "Допущены ошибки в битах: [7, 24, 25, 38, 49, 62, 73, 96, 100, 111, 126, 141, 155, 164, 175, 182, 193, 211, 224, 236, 251, 264, 275, 282, 289, 310, 315, 328, 341, 352, 369, 375, 387, 405]\n",
      "Результат декодирования ошибочных данных без исправления ошибок: xdllo wnrìD(k tond klnu\u0000hk÷ 4o(ãòq\n",
      "Результат декодирования ошибочных данных с исправлением ошибок: hello world i dont know how to cry\n"
     ]
    }
   ],
   "source": [
    "BLOCK_SIZE = 16\n",
    "import random\n",
    "# проверка длины блока\n",
    "assert not BLOCK_SIZE % 8, 'Длина блока должна быть кратна 8'\n",
    "\n",
    "# вычисление контрольных бит\n",
    "CHECK_BITS = [i for i in range(1, BLOCK_SIZE + 1) if not i & (i - 1)]\n",
    "\n",
    "\n",
    "def chars_to_bin(chars):\n",
    "    \"\"\"\n",
    "    Преобразование символов в бинарный формат\n",
    "    \"\"\"\n",
    "    assert not len(chars) * 8 % BLOCK_SIZE, 'Длина кодируемых данных должна быть кратна длине блока кодирования'\n",
    "    return ''.join([bin(ord(c))[2:].zfill(8) for c in chars])\n",
    "\n",
    "\n",
    "def block_iterator(text_bin, block_size=BLOCK_SIZE):\n",
    "    \"\"\"\n",
    "    Поблочный вывод бинарных данных\n",
    "    \"\"\"\n",
    "    for i in range(len(text_bin)):\n",
    "        if not i % block_size:\n",
    "            yield text_bin[i:i + block_size]\n",
    "\n",
    "\n",
    "def get_check_bits_data(value_bin):\n",
    "    \"\"\"\n",
    "    Получение информации о контрольных битах из бинарного блока данных\n",
    "    \"\"\"\n",
    "    check_bits_count_map = {k: 0 for k in CHECK_BITS}\n",
    "    for index, value in enumerate(value_bin, 1):\n",
    "        if int(value):\n",
    "            bin_char_list = list(bin(index)[2:].zfill(8))\n",
    "            bin_char_list.reverse()\n",
    "            for degree in [2 ** int(i) for i, value in enumerate(bin_char_list) if int(value)]:\n",
    "                check_bits_count_map[degree] += 1\n",
    "    check_bits_value_map = {}\n",
    "    for check_bit, count in check_bits_count_map.items():\n",
    "        check_bits_value_map[check_bit] = 0 if not count % 2 else 1\n",
    "    return check_bits_value_map\n",
    "\n",
    "\n",
    "def set_empty_check_bits(value_bin):\n",
    "    \"\"\"\n",
    "    Добавить в бинарный блок \"пустые\" контрольные биты\n",
    "    \"\"\"\n",
    "    for bit in CHECK_BITS:\n",
    "        value_bin = value_bin[:bit - 1] + '0' + value_bin[bit - 1:]\n",
    "    return value_bin\n",
    "\n",
    "\n",
    "def set_check_bits(value_bin):\n",
    "    \"\"\"\n",
    "    Установить значения контрольных бит\n",
    "    \"\"\"\n",
    "    value_bin = set_empty_check_bits(value_bin)\n",
    "    check_bits_data = get_check_bits_data(value_bin)\n",
    "    for check_bit, bit_value in check_bits_data.items():\n",
    "        value_bin = '{0}{1}{2}'.format(\n",
    "            value_bin[:check_bit - 1], bit_value, value_bin[check_bit:])\n",
    "    return value_bin\n",
    "\n",
    "\n",
    "def get_check_bits(value_bin):\n",
    "    \"\"\"\n",
    "    Получить информацию о контрольных битах из блока бинарных данных\n",
    "    \"\"\"\n",
    "    check_bits = {}\n",
    "    for index, value in enumerate(value_bin, 1):\n",
    "        if index in CHECK_BITS:\n",
    "            check_bits[index] = int(value)\n",
    "    return check_bits\n",
    "\n",
    "\n",
    "def exclude_check_bits(value_bin):\n",
    "    \"\"\"\n",
    "    Исключить информацию о контрольных битах из блока бинарных данных\n",
    "    \"\"\"\n",
    "    clean_value_bin = ''\n",
    "    for index, char_bin in enumerate(list(value_bin), 1):\n",
    "        if index not in CHECK_BITS:\n",
    "            clean_value_bin += char_bin\n",
    "\n",
    "    return clean_value_bin\n",
    "\n",
    "\n",
    "def set_errors(encoded):\n",
    "    \"\"\"\n",
    "    Допустить ошибку в блоках бинарных данных\n",
    "    \"\"\"\n",
    "    result = ''\n",
    "    for chunk in block_iterator(encoded, BLOCK_SIZE + len(CHECK_BITS)):\n",
    "        num_bit = random.randint(1, len(chunk))\n",
    "        chunk = '{0}{1}{2}'.format(chunk[:num_bit - 1], int(chunk[num_bit - 1]) ^ 1, chunk[num_bit:])\n",
    "        result += (chunk)\n",
    "    return result\n",
    "\n",
    "\n",
    "def check_and_fix_error(encoded_chunk):\n",
    "    \"\"\"\n",
    "    Проверка и исправление ошибки в блоке бинарных данных\n",
    "    \"\"\"\n",
    "    check_bits_encoded = get_check_bits(encoded_chunk)\n",
    "    check_item = exclude_check_bits(encoded_chunk)\n",
    "    check_item = set_check_bits(check_item)\n",
    "    check_bits = get_check_bits(check_item)\n",
    "    if check_bits_encoded != check_bits:\n",
    "        invalid_bits = []\n",
    "        for check_bit_encoded, value in check_bits_encoded.items():\n",
    "            if check_bits[check_bit_encoded] != value:\n",
    "                invalid_bits.append(check_bit_encoded)\n",
    "        num_bit = sum(invalid_bits)\n",
    "        encoded_chunk = '{0}{1}{2}'.format(\n",
    "            encoded_chunk[:num_bit - 1],\n",
    "            int(encoded_chunk[num_bit - 1]) ^ 1,\n",
    "            encoded_chunk[num_bit:])\n",
    "    return encoded_chunk\n",
    "\n",
    "\n",
    "def get_diff_index_list(value_bin1, value_bin2):\n",
    "    \"\"\"\n",
    "    Получить список индексов различающихся битов\n",
    "    \"\"\"\n",
    "    diff_index_list = []\n",
    "    for index, char_bin_items in enumerate(zip(list(value_bin1), list(value_bin2)), 1):\n",
    "        if char_bin_items[0] != char_bin_items[1]:\n",
    "            diff_index_list.append(index)\n",
    "    return diff_index_list\n",
    "\n",
    "\n",
    "def encode(source):\n",
    "    \"\"\"\n",
    "    Кодирование данных\n",
    "    \"\"\"\n",
    "    text_bin = chars_to_bin(source)\n",
    "    result = ''\n",
    "    for chunk_bin in block_iterator(text_bin):\n",
    "        chunk_bin = set_check_bits(chunk_bin)\n",
    "        result += chunk_bin\n",
    "    return result\n",
    "\n",
    "\n",
    "def decode(encoded, fix_errors=True):\n",
    "    \"\"\"\n",
    "    Декодирование данных\n",
    "    \"\"\"\n",
    "    decoded_value = ''\n",
    "    fixed_encoded_list = []\n",
    "    for encoded_chunk in block_iterator(encoded, BLOCK_SIZE + len(CHECK_BITS)):\n",
    "        if fix_errors:\n",
    "            encoded_chunk = check_and_fix_error(encoded_chunk)\n",
    "        fixed_encoded_list.append(encoded_chunk)\n",
    "\n",
    "    clean_chunk_list = []\n",
    "    for encoded_chunk in fixed_encoded_list:\n",
    "        encoded_chunk = exclude_check_bits(encoded_chunk)\n",
    "        clean_chunk_list.append(encoded_chunk)\n",
    "\n",
    "    for clean_chunk in clean_chunk_list:\n",
    "        for clean_char in [clean_chunk[i:i + 8] for i in range(len(clean_chunk)) if not i % 8]:\n",
    "            decoded_value += chr(int(clean_char, 2))\n",
    "    return decoded_value\n",
    "\n",
    "\n",
    "\n",
    "source = input('Укажите текст для кодирования/декодирования:')\n",
    "print('Длина блока кодирования: {0}'.format(BLOCK_SIZE))\n",
    "print('Контрольные биты: {0}'.format(CHECK_BITS))\n",
    "encoded = encode(source)\n",
    "print('Закодированные данные: {0}'.format(encoded))\n",
    "decoded = decode(encoded)\n",
    "print('Результат декодирования: {0}'.format(decoded))\n",
    "encoded_with_error = set_errors(encoded)\n",
    "print('Допускаем ошибки в закодированных данных: {0}'.format(encoded_with_error))\n",
    "diff_index_list = get_diff_index_list(encoded, encoded_with_error)\n",
    "print('Допущены ошибки в битах: {0}'.format(diff_index_list))\n",
    "decoded = decode(encoded_with_error, fix_errors=False)\n",
    "print('Результат декодирования ошибочных данных без исправления ошибок: {0}'.format(decoded))\n",
    "decoded = decode(encoded_with_error)\n",
    "print('Результат декодирования ошибочных данных с исправлением ошибок: {0}'.format(decoded))"
   ]
  },
  {
   "cell_type": "code",
   "execution_count": 11,
   "metadata": {},
   "outputs": [
    {
     "data": {
      "text/plain": [
       "bytearray(b'010011011000100111000101000011001100000011001100110111001111010101000000100011110111110111001111110111110010000011001100100011010100010101000000010111001001010101000000100011010100110111001111110011011110010111110100010101000000100111011011110011011110110111001111100011110111010101000000010011011000110111001111100011110111010101000000010111110100110111001111010101000000000111000011110111110010100011101001')"
      ]
     },
     "execution_count": 11,
     "metadata": {},
     "output_type": "execute_result"
    }
   ],
   "source": [
    "bytearray(encoded, 'utf8')"
   ]
  },
  {
   "cell_type": "code",
   "execution_count": 9,
   "metadata": {},
   "outputs": [],
   "source": [
    "def encoder(filein,fileout):\n",
    "    blocksize = 8\n",
    "    while True:\n",
    "        s = filein.read(blocksize)\n",
    "        if not s:\n",
    "            break\n",
    "        result = set_check_bits(chars_to_bin(s))\n",
    "        fileout.write(result)"
   ]
  },
  {
   "cell_type": "code",
   "execution_count": 10,
   "metadata": {},
   "outputs": [],
   "source": [
    "def decoder(filein, fileout, filelog):\n",
    "    blocksize = 8\n",
    "    s = filein.read(blocksize)\n",
    "    if not s:\n",
    "        return\n",
    "    while True:\n",
    "        fileout.write(s)\n",
    "        s = filein.read(blocksize)\n",
    "        if not s:\n",
    "            break"
   ]
  },
  {
   "cell_type": "code",
   "execution_count": 8,
   "metadata": {},
   "outputs": [
    {
     "ename": "TypeError",
     "evalue": "string argument without an encoding",
     "output_type": "error",
     "traceback": [
      "\u001b[1;31m---------------------------------------------------------------------------\u001b[0m",
      "\u001b[1;31mTypeError\u001b[0m                                 Traceback (most recent call last)",
      "\u001b[1;32mc:\\Users\\Aleksey\\Documents\\GitHub\\nto-final\\unks\\check.ipynb Cell 11'\u001b[0m in \u001b[0;36m<module>\u001b[1;34m\u001b[0m\n\u001b[1;32m----> <a href='vscode-notebook-cell:/c%3A/Users/Aleksey/Documents/GitHub/nto-final/unks/check.ipynb#ch0000014?line=0'>1</a>\u001b[0m \u001b[39mbytearray\u001b[39;49m(\u001b[39m'\u001b[39;49m\u001b[39m101\u001b[39;49m\u001b[39m'\u001b[39;49m)\n",
      "\u001b[1;31mTypeError\u001b[0m: string argument without an encoding"
     ]
    }
   ],
   "source": [
    "bytearray('101', encoding=)"
   ]
  },
  {
   "cell_type": "code",
   "execution_count": 90,
   "metadata": {},
   "outputs": [
    {
     "data": {
      "text/plain": [
       "bytes"
      ]
     },
     "execution_count": 90,
     "metadata": {},
     "output_type": "execute_result"
    }
   ],
   "source": [
    "type(\"State\".encode())"
   ]
  },
  {
   "cell_type": "code",
   "execution_count": 91,
   "metadata": {},
   "outputs": [],
   "source": [
    "pos = 0\n",
    "state = 0"
   ]
  },
  {
   "cell_type": "code",
   "execution_count": 92,
   "metadata": {},
   "outputs": [
    {
     "name": "stdout",
     "output_type": "stream",
     "text": [
      "Pos: 0State: 0time\n"
     ]
    }
   ],
   "source": [
    "print(f\"Pos: {pos}\" + f\" State: {state}\" + \n",
    "            f\"time\")"
   ]
  },
  {
   "cell_type": "code",
   "execution_count": null,
   "metadata": {},
   "outputs": [],
   "source": []
  }
 ],
 "metadata": {
  "interpreter": {
   "hash": "736c79110b90fcc0c5d76f382c6e50cefaa88c18e13916f93807986c023dc46d"
  },
  "kernelspec": {
   "display_name": "Python 3.9.10 64-bit",
   "language": "python",
   "name": "python3"
  },
  "language_info": {
   "codemirror_mode": {
    "name": "ipython",
    "version": 3
   },
   "file_extension": ".py",
   "mimetype": "text/x-python",
   "name": "python",
   "nbconvert_exporter": "python",
   "pygments_lexer": "ipython3",
   "version": "3.9.10"
  },
  "orig_nbformat": 4
 },
 "nbformat": 4,
 "nbformat_minor": 2
}
