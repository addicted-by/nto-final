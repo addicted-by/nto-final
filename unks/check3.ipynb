{
 "cells": [
  {
   "cell_type": "code",
   "execution_count": 3,
   "metadata": {},
   "outputs": [
    {
     "data": {
      "text/plain": [
       "300335"
      ]
     },
     "execution_count": 3,
     "metadata": {},
     "output_type": "execute_result"
    }
   ],
   "source": [
    "int(0b1001001010100101111)"
   ]
  },
  {
   "cell_type": "code",
   "execution_count": 14,
   "metadata": {},
   "outputs": [
    {
     "data": {
      "text/plain": [
       "380207"
      ]
     },
     "execution_count": 14,
     "metadata": {},
     "output_type": "execute_result"
    }
   ],
   "source": [
    "int(0b1011100110100101111)"
   ]
  },
  {
   "cell_type": "code",
   "execution_count": 5,
   "metadata": {},
   "outputs": [
    {
     "data": {
      "text/plain": [
       "300335"
      ]
     },
     "execution_count": 5,
     "metadata": {},
     "output_type": "execute_result"
    }
   ],
   "source": [
    "int(0b1001001010100101111)"
   ]
  },
  {
   "cell_type": "code",
   "execution_count": 22,
   "metadata": {},
   "outputs": [
    {
     "data": {
      "text/plain": [
       "[]"
      ]
     },
     "execution_count": 22,
     "metadata": {},
     "output_type": "execute_result"
    }
   ],
   "source": [
    "[i for i, bits in enumerate(bin(380207)[2:])]"
   ]
  },
  {
   "cell_type": "code",
   "execution_count": 328,
   "metadata": {},
   "outputs": [],
   "source": [
    "from itertools import starmap\n",
    "from operator import mul\n",
    "\n",
    "\n",
    "\n",
    "\n",
    "def v_xormultiplicate_m(v: list, m: list) -> list:\n",
    "    return [sum(starmap(mul, zip(v, col)))%2 for col in zip(*m)]"
   ]
  },
  {
   "cell_type": "code",
   "execution_count": 355,
   "metadata": {},
   "outputs": [],
   "source": [
    "# G = [[1,0,1,1,0,0,0],\n",
    "#       [0,1,0,1,1,0,0], \n",
    "#       [0,0,1,0,1,1,0], \n",
    "#       [0,0,0,1,0,1,1]] \n",
    "#порождающая матрица\n",
    "G = [\n",
    "    [0, 1, 1, 1, 1, 0, 0, 0],\n",
    "    [1, 0, 1, 1, 0, 1, 0, 0],\n",
    "    [1, 1, 0, 1, 0, 0, 1, 0],\n",
    "    [1, 1, 1, 0, 0, 0, 0, 1]\n",
    "]\n",
    "\n",
    "H = [\n",
    "    [1, 0, 0, 0],\n",
    "    [0, 1, 0, 0],\n",
    "    [0, 0, 1, 0],\n",
    "    [0, 0, 0, 1],\n",
    "    [0, 1, 1, 1],\n",
    "    [1, 0, 1, 1],\n",
    "    [1, 0, 1, 1],\n",
    "    [1, 1, 0, 1],\n",
    "    [1, 1, 1, 0]\n",
    "]\n",
    "\n",
    "# H = [[1,0,1],\n",
    "#       [1,1,1],\n",
    "#        [1,1,0],\n",
    "#        [0,1,1],\n",
    "#        [1,0,0],\n",
    "#        [0,1,0],\n",
    "#        [0,0,1]]\n",
    "\n",
    "#проверочная матрица"
   ]
  },
  {
   "cell_type": "code",
   "execution_count": 359,
   "metadata": {},
   "outputs": [],
   "source": [
    "#информационное слово (blocksize=4)\n",
    "\n",
    "d = [1,0,1,1]\n"
   ]
  },
  {
   "cell_type": "code",
   "execution_count": 360,
   "metadata": {},
   "outputs": [],
   "source": [
    "#кодовое тогда \n",
    "k = v_xormultiplicate_m(d,G)"
   ]
  },
  {
   "cell_type": "code",
   "execution_count": 361,
   "metadata": {},
   "outputs": [
    {
     "data": {
      "text/plain": [
       "[0, 1, 0, 0, 1, 0, 1, 1]"
      ]
     },
     "execution_count": 361,
     "metadata": {},
     "output_type": "execute_result"
    }
   ],
   "source": [
    "k"
   ]
  },
  {
   "cell_type": "code",
   "execution_count": 368,
   "metadata": {},
   "outputs": [],
   "source": [
    "k = [0, 1, 0, 0, 1, 0, 1, 1]"
   ]
  },
  {
   "cell_type": "code",
   "execution_count": 369,
   "metadata": {},
   "outputs": [
    {
     "data": {
      "text/plain": [
       "8"
      ]
     },
     "execution_count": 369,
     "metadata": {},
     "output_type": "execute_result"
    }
   ],
   "source": [
    "len(k)"
   ]
  },
  {
   "cell_type": "code",
   "execution_count": 363,
   "metadata": {},
   "outputs": [],
   "source": [
    "# синдром\n",
    "s = v_xormultiplicate_m(k, H)"
   ]
  },
  {
   "cell_type": "code",
   "execution_count": 364,
   "metadata": {},
   "outputs": [
    {
     "data": {
      "text/plain": [
       "[1, 1, 0, 0]"
      ]
     },
     "execution_count": 364,
     "metadata": {},
     "output_type": "execute_result"
    }
   ],
   "source": [
    "s"
   ]
  },
  {
   "cell_type": "code",
   "execution_count": 370,
   "metadata": {},
   "outputs": [
    {
     "name": "stdout",
     "output_type": "stream",
     "text": [
      "[1, 0, 1, 1]\n"
     ]
    }
   ],
   "source": [
    "si = None\n",
    "if s != [0, 0, 0]:\n",
    "    try:\n",
    "        si = H.index(s)\n",
    "    except ValueError:\n",
    "        si = None\n",
    "if si != None:\n",
    "    k[si] = int(not k[si])\n",
    "print(k[4:])"
   ]
  },
  {
   "cell_type": "code",
   "execution_count": 341,
   "metadata": {},
   "outputs": [],
   "source": [
    "k[H.index(s)] = int(not k[H.index(s)])"
   ]
  },
  {
   "cell_type": "code",
   "execution_count": 342,
   "metadata": {},
   "outputs": [
    {
     "data": {
      "text/plain": [
       "[1, 0, 0, 1, 1, 1, 0]"
      ]
     },
     "execution_count": 342,
     "metadata": {},
     "output_type": "execute_result"
    }
   ],
   "source": [
    "k"
   ]
  },
  {
   "cell_type": "code",
   "execution_count": 285,
   "metadata": {},
   "outputs": [
    {
     "name": "stdout",
     "output_type": "stream",
     "text": [
      "0\n"
     ]
    }
   ],
   "source": [
    "\n",
    "check = 0\n",
    "for i, row in enumerate(H):\n",
    "    if sum(s) == 0:\n",
    "        check = -1\n",
    "        break\n",
    "    if s == row:\n",
    "        check = i\n",
    "\n",
    "print(check)"
   ]
  },
  {
   "cell_type": "code",
   "execution_count": 203,
   "metadata": {},
   "outputs": [],
   "source": [
    "def list_to_bits(l: list) -> int:\n",
    "    return int(''.join(map(str, l)), 2)"
   ]
  },
  {
   "cell_type": "code",
   "execution_count": 204,
   "metadata": {},
   "outputs": [
    {
     "data": {
      "text/plain": [
       "4"
      ]
     },
     "execution_count": 204,
     "metadata": {},
     "output_type": "execute_result"
    }
   ],
   "source": [
    "list_to_bits(s)"
   ]
  },
  {
   "cell_type": "code",
   "execution_count": 53,
   "metadata": {},
   "outputs": [
    {
     "data": {
      "text/plain": [
       "'0b110'"
      ]
     },
     "execution_count": 53,
     "metadata": {},
     "output_type": "execute_result"
    }
   ],
   "source": [
    "bin(6)"
   ]
  },
  {
   "cell_type": "code",
   "execution_count": 409,
   "metadata": {},
   "outputs": [],
   "source": [
    "filein = open('fileIN_encoder.txt', 'rb')\n",
    "fileout = open('fileOUT_encoder.txt', 'wb')\n"
   ]
  },
  {
   "cell_type": "code",
   "execution_count": 410,
   "metadata": {},
   "outputs": [],
   "source": [
    "def encoder(filein,fileout):\n",
    "    blocksize=4\n",
    "\n",
    "    G = [\n",
    "    [0, 1, 1, 1, 1, 0, 0, 0],\n",
    "    [1, 0, 1, 1, 0, 1, 0, 0],\n",
    "    [1, 1, 0, 1, 0, 0, 1, 0],\n",
    "    [1, 1, 1, 0, 0, 0, 0, 1]\n",
    "    ]\n",
    "#порождающая матрица\n",
    "    while True:\n",
    "        s=filein.read(blocksize)\n",
    "        k = [i-48 for i in s]\n",
    "        coded = v_xormultiplicate_m(k, G)\n",
    "        #print(coded)\n",
    "       # print(''.join([chr(i+48) for i in coded]))\n",
    "        #print(''.join([bin(ord(c))[2:].zfill(8) for c in coded]))\n",
    "        if not s:\n",
    "            break\n",
    "        string_to_send = ''.join(str(c) for c in coded)\n",
    "        fileout.write(string_to_send.encode())\n",
    "    fileout.close()"
   ]
  },
  {
   "cell_type": "code",
   "execution_count": 411,
   "metadata": {},
   "outputs": [],
   "source": [
    "encoder(filein, fileout)\n",
    "filein.close()\n",
    "fileout.close()"
   ]
  },
  {
   "cell_type": "code",
   "execution_count": 415,
   "metadata": {},
   "outputs": [],
   "source": [
    "filein = open('fileOUT_encoder.txt', 'rb')\n",
    "fileout = open('fileOUT_decoder.txt', 'wb')\n",
    "filelog = open('fileLOG.log','wb')"
   ]
  },
  {
   "cell_type": "code",
   "execution_count": 416,
   "metadata": {},
   "outputs": [],
   "source": [
    "#!/usr/bin/python3\n",
    "from itertools import starmap\n",
    "from operator import mul\n",
    "\n",
    "\n",
    "def list_to_bits(l: list) -> int:\n",
    "    return int(''.join(map(str, l)), 2) << 1\n",
    "\n",
    "def v_xormultiplicate_m(v: list, m: list) -> list:\n",
    "    return [sum(starmap(mul, zip(v, col)))%2 for col in zip(*m)]\n",
    "    \n",
    "def decoder(filein, fileout, filelog):\n",
    "    blocksize=8\n",
    "    s = filein.read(blocksize)\n",
    "    H = [\n",
    "    [1, 0, 0, 0],\n",
    "    [0, 1, 0, 0],\n",
    "    [0, 0, 1, 0],\n",
    "    [0, 0, 0, 1],\n",
    "    [0, 1, 1, 1],\n",
    "    [1, 0, 1, 1],\n",
    "    [1, 0, 1, 1],\n",
    "    [1, 1, 0, 1],\n",
    "    [1, 1, 1, 0]\n",
    "    ]\n",
    "    if not s:\n",
    "        return\n",
    "    while True:\n",
    "        filelog.write('\\n---ENCODED---\\n'.encode())       \n",
    "        filelog.write(s)\n",
    "        coded = [int(c)-48 for c in s]\n",
    "        syndrome = v_xormultiplicate_m(coded, H)\n",
    "        si = None\n",
    "        if syndrome != [0,0,0,0]:\n",
    "            try:\n",
    "                si = H.index(s)\n",
    "            except ValueError:\n",
    "                si = None\n",
    "        if si != None:\n",
    "            coded[si] = int(not coded[si])\n",
    "        log_string = ''.join(str(c) for c in coded)\n",
    "        string_to_send = ''.join(str(c) for c in coded[4:])\n",
    "        filelog.write('\\n---FULL-DECODED---\\n'.encode())\n",
    "        filelog.write(log_string.encode())\n",
    "        filelog.write('\\n---DECODED---\\n'.encode())\n",
    "        filelog.write(string_to_send.encode())\n",
    "        fileout.write(string_to_send.encode())\n",
    "        s = filein.read(blocksize)\n",
    "        if not s:\n",
    "            break\n",
    "    \n",
    "# si = None\n",
    "# if s != [0, 0, 0]:\n",
    "#     try:\n",
    "#         si = H.index(s)\n",
    "#     except ValueError:\n",
    "#         si = None\n",
    "# if si != None:\n",
    "#     k[si] = int(not k[si])\n",
    "# print(k[4:])"
   ]
  },
  {
   "cell_type": "code",
   "execution_count": 417,
   "metadata": {},
   "outputs": [],
   "source": [
    "decoder(filein, fileout, filelog)\n",
    "filein.close()\n",
    "fileout.close()\n",
    "filelog.close()"
   ]
  },
  {
   "cell_type": "code",
   "execution_count": 97,
   "metadata": {},
   "outputs": [
    {
     "ename": "TypeError",
     "evalue": "string argument without an encoding",
     "output_type": "error",
     "traceback": [
      "\u001b[1;31m---------------------------------------------------------------------------\u001b[0m",
      "\u001b[1;31mTypeError\u001b[0m                                 Traceback (most recent call last)",
      "\u001b[1;32mc:\\Users\\Aleksey\\Documents\\GitHub\\nto-final\\unks\\check3.ipynb Cell 17'\u001b[0m in \u001b[0;36m<module>\u001b[1;34m\u001b[0m\n\u001b[1;32m----> <a href='vscode-notebook-cell:/c%3A/Users/Aleksey/Documents/GitHub/nto-final/unks/check3.ipynb#ch0000016?line=0'>1</a>\u001b[0m \u001b[39mbytes\u001b[39;49m(\u001b[39m'\u001b[39;49m\u001b[39m1011\u001b[39;49m\u001b[39m'\u001b[39;49m)\n",
      "\u001b[1;31mTypeError\u001b[0m: string argument without an encoding"
     ]
    }
   ],
   "source": [
    "bytes('1011')"
   ]
  },
  {
   "cell_type": "code",
   "execution_count": 129,
   "metadata": {},
   "outputs": [],
   "source": [
    "coded = [0, 1, 0, 0, 1, 1, 1]"
   ]
  },
  {
   "cell_type": "code",
   "execution_count": 119,
   "metadata": {},
   "outputs": [
    {
     "ename": "NameError",
     "evalue": "name 'ba' is not defined",
     "output_type": "error",
     "traceback": [
      "\u001b[1;31m---------------------------------------------------------------------------\u001b[0m",
      "\u001b[1;31mNameError\u001b[0m                                 Traceback (most recent call last)",
      "\u001b[1;32mc:\\Users\\Aleksey\\Documents\\GitHub\\nto-final\\unks\\check3.ipynb Cell 19'\u001b[0m in \u001b[0;36m<module>\u001b[1;34m\u001b[0m\n\u001b[0;32m      <a href='vscode-notebook-cell:/c%3A/Users/Aleksey/Documents/GitHub/nto-final/unks/check3.ipynb#ch0000018?line=0'>1</a>\u001b[0m a \u001b[39m=\u001b[39m \u001b[39m'\u001b[39m\u001b[39m'\u001b[39m\u001b[39m.\u001b[39mjoin(\u001b[39mstr\u001b[39m(c) \u001b[39mfor\u001b[39;00m c \u001b[39min\u001b[39;00m coded)\n\u001b[1;32m----> <a href='vscode-notebook-cell:/c%3A/Users/Aleksey/Documents/GitHub/nto-final/unks/check3.ipynb#ch0000018?line=1'>2</a>\u001b[0m ba\n",
      "\u001b[1;31mNameError\u001b[0m: name 'ba' is not defined"
     ]
    }
   ],
   "source": [
    "a = ''.join(str(c) for c in coded)\n"
   ]
  },
  {
   "cell_type": "code",
   "execution_count": 114,
   "metadata": {},
   "outputs": [
    {
     "name": "stdout",
     "output_type": "stream",
     "text": [
      "0b0100111\n"
     ]
    }
   ],
   "source": [
    "print('0b'+'0100111')"
   ]
  },
  {
   "cell_type": "code",
   "execution_count": 130,
   "metadata": {},
   "outputs": [
    {
     "ename": "NameError",
     "evalue": "name 'bitarray' is not defined",
     "output_type": "error",
     "traceback": [
      "\u001b[1;31m---------------------------------------------------------------------------\u001b[0m",
      "\u001b[1;31mNameError\u001b[0m                                 Traceback (most recent call last)",
      "\u001b[1;32mc:\\Users\\Aleksey\\Documents\\GitHub\\nto-final\\unks\\check3.ipynb Cell 21'\u001b[0m in \u001b[0;36m<module>\u001b[1;34m\u001b[0m\n\u001b[1;32m----> <a href='vscode-notebook-cell:/c%3A/Users/Aleksey/Documents/GitHub/nto-final/unks/check3.ipynb#ch0000020?line=0'>1</a>\u001b[0m bitarray(coded)\n",
      "\u001b[1;31mNameError\u001b[0m: name 'bitarray' is not defined"
     ]
    }
   ],
   "source": [
    "bitarray(coded)"
   ]
  },
  {
   "cell_type": "code",
   "execution_count": 133,
   "metadata": {},
   "outputs": [
    {
     "data": {
      "text/plain": [
       "'0b0'"
      ]
     },
     "execution_count": 133,
     "metadata": {},
     "output_type": "execute_result"
    }
   ],
   "source": [
    "bin(0)"
   ]
  },
  {
   "cell_type": "code",
   "execution_count": 121,
   "metadata": {},
   "outputs": [
    {
     "data": {
      "text/plain": [
       "b'0100111'"
      ]
     },
     "execution_count": 121,
     "metadata": {},
     "output_type": "execute_result"
    }
   ],
   "source": [
    "'0100111'.encode()"
   ]
  },
  {
   "cell_type": "code",
   "execution_count": 120,
   "metadata": {},
   "outputs": [
    {
     "ename": "TypeError",
     "evalue": "string argument without an encoding",
     "output_type": "error",
     "traceback": [
      "\u001b[1;31m---------------------------------------------------------------------------\u001b[0m",
      "\u001b[1;31mTypeError\u001b[0m                                 Traceback (most recent call last)",
      "\u001b[1;32mc:\\Users\\Aleksey\\Documents\\GitHub\\nto-final\\unks\\check3.ipynb Cell 22'\u001b[0m in \u001b[0;36m<module>\u001b[1;34m\u001b[0m\n\u001b[1;32m----> <a href='vscode-notebook-cell:/c%3A/Users/Aleksey/Documents/GitHub/nto-final/unks/check3.ipynb#ch0000021?line=0'>1</a>\u001b[0m \u001b[39mbytearray\u001b[39;49m(\u001b[39m'\u001b[39;49m\u001b[39m0100111\u001b[39;49m\u001b[39m'\u001b[39;49m)\n",
      "\u001b[1;31mTypeError\u001b[0m: string argument without an encoding"
     ]
    }
   ],
   "source": [
    "bytearray('0100111')"
   ]
  },
  {
   "cell_type": "code",
   "execution_count": 297,
   "metadata": {},
   "outputs": [],
   "source": [
    "Gm = [\n",
    "    [0, 1, 1, 1, 1, 0, 0, 0],\n",
    "    [1, 0, 1, 1, 0, 1, 0, 0],\n",
    "    [1, 1, 0, 1, 0, 0, 1, 0],\n",
    "    [1, 1, 1, 0, 0, 0, 0, 1]\n",
    "]\n",
    "\n",
    "\n",
    "G = list(zip(*Gm))"
   ]
  },
  {
   "cell_type": "code",
   "execution_count": 298,
   "metadata": {},
   "outputs": [],
   "source": [
    "Hm = [\n",
    "    [1, 0, 0, 0],\n",
    "    [0, 1, 0, 0],\n",
    "    [0, 0, 1, 0],\n",
    "    [0, 0, 0, 1],\n",
    "    [0, 1, 1, 1],\n",
    "    [1, 0, 1, 1],\n",
    "    [1, 0, 1, 1],\n",
    "    [1, 1, 0, 1],\n",
    "    [1, 1, 1, 0]\n",
    "]"
   ]
  },
  {
   "cell_type": "code",
   "execution_count": 299,
   "metadata": {},
   "outputs": [],
   "source": [
    "H = list(zip(*Hm))"
   ]
  },
  {
   "cell_type": "code",
   "execution_count": 301,
   "metadata": {},
   "outputs": [],
   "source": [
    "def mult(a ,b):\n",
    "    return sum(a[i] * b[i] for i in range(len(a))) % 2\n",
    "\n",
    "def encode1(data):\n",
    "    return [mult(data, g) for g in G]\n",
    "\n",
    "def syndrome(data):\n",
    "    return [mult(data, H) for h in H]"
   ]
  },
  {
   "cell_type": "code",
   "execution_count": 304,
   "metadata": {},
   "outputs": [],
   "source": [
    "def decode1(data):\n",
    "    s = syndrome(data)\n",
    "    if s != [0, 0, 0, 0]:\n",
    "        try:\n",
    "            si = Hm.index(s)\n",
    "        except ValueError:\n",
    "            return None\n",
    "\n",
    "        data[si] = int(not data[si])\n",
    "    return data[4:]\n",
    "\n",
    "\n",
    "def i2l(x, z=4):\n",
    "    return list(map(int, bin(x)[2:].zfill(z)))\n",
    "\n",
    "def l2i(x):\n",
    "    return int(''.join(map(str, x)), 2)\n",
    "\n",
    "def encode_one(x):\n",
    "    return l2i(encode1(i2l(x,4)))\n",
    "\n",
    "def decode_one(x):\n",
    "    return l2i(decode1(i2l(x,8)))\n",
    "\n",
    "def encode(d):\n",
    "    ans = []\n",
    "    for x in d:\n",
    "        ans.append(encode_one(x >> 4))\n",
    "        ans.append(encode_one(x & 0b1111))\n",
    "    return bytes(ans)\n",
    "\n",
    "def decode(d):\n",
    "    ans = []\n",
    "    for i in range(len(d), 2):\n",
    "        high = decode_one(d[i])\n",
    "        low = decode_one(d[i+1])\n",
    "        ans.append(high << 4 | low)\n",
    "    return bytes(ans)"
   ]
  },
  {
   "cell_type": "code",
   "execution_count": 303,
   "metadata": {},
   "outputs": [
    {
     "data": {
      "text/plain": [
       "15"
      ]
     },
     "execution_count": 303,
     "metadata": {},
     "output_type": "execute_result"
    }
   ],
   "source": [
    "encode(bytes)"
   ]
  },
  {
   "cell_type": "code",
   "execution_count": 308,
   "metadata": {},
   "outputs": [
    {
     "data": {
      "text/plain": [
       "bytes"
      ]
     },
     "execution_count": 308,
     "metadata": {},
     "output_type": "execute_result"
    }
   ],
   "source": [
    "type('0100111'.encode())"
   ]
  },
  {
   "cell_type": "code",
   "execution_count": 312,
   "metadata": {},
   "outputs": [
    {
     "data": {
      "text/plain": [
       "b'3\\x003\\xe13\\x003\\x003\\xe13\\xe13\\xe1'"
      ]
     },
     "execution_count": 312,
     "metadata": {},
     "output_type": "execute_result"
    }
   ],
   "source": [
    "encode('0100111'.encode())"
   ]
  },
  {
   "cell_type": "code",
   "execution_count": null,
   "metadata": {},
   "outputs": [],
   "source": [
    "for i in range"
   ]
  }
 ],
 "metadata": {
  "interpreter": {
   "hash": "736c79110b90fcc0c5d76f382c6e50cefaa88c18e13916f93807986c023dc46d"
  },
  "kernelspec": {
   "display_name": "Python 3.9.10 64-bit",
   "language": "python",
   "name": "python3"
  },
  "language_info": {
   "codemirror_mode": {
    "name": "ipython",
    "version": 3
   },
   "file_extension": ".py",
   "mimetype": "text/x-python",
   "name": "python",
   "nbconvert_exporter": "python",
   "pygments_lexer": "ipython3",
   "version": "3.9.10"
  },
  "orig_nbformat": 4
 },
 "nbformat": 4,
 "nbformat_minor": 2
}
